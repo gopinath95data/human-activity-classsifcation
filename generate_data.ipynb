{
 "cells": [
  {
   "cell_type": "code",
   "execution_count": 4,
   "id": "74e51512-4a94-4141-9a20-77d1b2cedbf6",
   "metadata": {},
   "outputs": [],
   "source": [
    "import pandas as pd\n",
    "import numpy as np\n",
    "import random\n",
    "import csv\n",
    "import matplotlib.pyplot as plt\n",
    "\n",
    "from sklearn.preprocessing import MinMaxScaler"
   ]
  },
  {
   "cell_type": "code",
   "execution_count": 5,
   "id": "031926ff-efb1-4798-abab-597b6891b693",
   "metadata": {},
   "outputs": [],
   "source": [
    "dat = np.load('./full sequence data/features.npy')\n",
    "tar = np.load('./full sequence data/targets.npy')"
   ]
  },
  {
   "cell_type": "code",
   "execution_count": 6,
   "id": "85e9cebb-179b-4ca3-ab2c-3a3ecf02b399",
   "metadata": {},
   "outputs": [],
   "source": [
    "fn_seq = []\n",
    "fn_tar = []\n",
    "tar_unq = np.unique(tar)\n",
    "\n",
    "# sequence length of the data to be sampled \n",
    "seq_len = 80\n",
    "\n",
    "# samples per target\n",
    "per_tar = 200\n",
    "\n",
    "for tar_i in tar_unq:\n",
    "    for s_tar in range(per_tar):\n",
    "        cur_tar = tar_i\n",
    "        idxs = np.array(np.where(tar == cur_tar))\n",
    "        rand_idx = np.random.choice(idxs.reshape(-1))\n",
    "        req_x = dat[rand_idx]\n",
    "        nr = random.randint(0,len(req_x)-seq_len)\n",
    "        val = req_x[nr:nr+seq_len]\n",
    "        \n",
    "        scaler = MinMaxScaler()\n",
    "        \n",
    "        val = scaler.fit_transform(val)\n",
    "        fn_seq.append(val)\n",
    "        fn_tar.append(cur_tar)\n",
    "\n",
    "fn_seq = np.array(fn_seq)\n",
    "fn_tar = np.array(fn_tar)\n",
    "\n",
    "np.save('./final data/train_features.npy', fn_seq)\n",
    "np.save('./final data/train_targets.npy', fn_tar)"
   ]
  },
  {
   "cell_type": "code",
   "execution_count": 7,
   "id": "67751981-6c00-41ab-9fb9-8e6c1d043c7c",
   "metadata": {},
   "outputs": [],
   "source": [
    "# GENERATE TEST DATA"
   ]
  },
  {
   "cell_type": "code",
   "execution_count": 10,
   "id": "062054f1-8d83-448f-975b-7723592ad7ce",
   "metadata": {},
   "outputs": [],
   "source": [
    "dat = np.load('./full sequence data/features.npy')\n",
    "tar = np.load('./full sequence data/targets.npy')"
   ]
  },
  {
   "cell_type": "code",
   "execution_count": 11,
   "id": "c08fb2c5-5d3b-448a-9ddd-2c262bad7a22",
   "metadata": {},
   "outputs": [],
   "source": [
    "fn_seq = []\n",
    "fn_tar = []\n",
    "tar_unq = np.unique(tar)\n",
    "seq_len = 80\n",
    "per_tar = 20\n",
    "\n",
    "for tar_i in tar_unq:\n",
    "    for s_tar in range(per_tar):\n",
    "        cur_tar = tar_i\n",
    "        idxs = np.array(np.where(tar == cur_tar))\n",
    "        rand_idx = np.random.choice(idxs.reshape(-1))\n",
    "        req_x = dat[rand_idx]\n",
    "        nr = random.randint(0,len(req_x)-seq_len)\n",
    "        val = req_x[nr:nr+seq_len]\n",
    "        \n",
    "        scaler = MinMaxScaler()\n",
    "        \n",
    "        val = scaler.fit_transform(val)\n",
    "        fn_seq.append(val)\n",
    "        fn_tar.append(cur_tar)\n",
    "\n",
    "fn_seq = np.array(fn_seq)\n",
    "fn_tar = np.array(fn_tar)\n",
    "\n",
    "np.save('./final data/test_features.npy', fn_seq)\n",
    "np.save('./final data/test_targets.npy', fn_tar)"
   ]
  },
  {
   "cell_type": "code",
   "execution_count": 8,
   "id": "fde39974-e552-41b5-8dd8-deeef343bdfa",
   "metadata": {},
   "outputs": [],
   "source": []
  },
  {
   "cell_type": "code",
   "execution_count": null,
   "id": "91276323-2174-4f7b-8e9e-fe4add81ab20",
   "metadata": {},
   "outputs": [],
   "source": []
  },
  {
   "cell_type": "code",
   "execution_count": null,
   "id": "ccd86e4a-b015-4d6d-831f-6ddbc48054bb",
   "metadata": {},
   "outputs": [],
   "source": []
  },
  {
   "cell_type": "code",
   "execution_count": null,
   "id": "831abc7b-4dd5-49a7-a580-71f81be8b1cb",
   "metadata": {},
   "outputs": [],
   "source": []
  },
  {
   "cell_type": "code",
   "execution_count": null,
   "id": "264a7fa9-28bf-4084-952a-7afeab3d5e17",
   "metadata": {},
   "outputs": [],
   "source": []
  },
  {
   "cell_type": "code",
   "execution_count": null,
   "id": "e10013ce-4984-4953-82d0-8e340f0af264",
   "metadata": {},
   "outputs": [],
   "source": []
  },
  {
   "cell_type": "code",
   "execution_count": null,
   "id": "a7d296f5-67af-485b-943a-e4913811c57a",
   "metadata": {},
   "outputs": [],
   "source": []
  },
  {
   "cell_type": "code",
   "execution_count": null,
   "id": "43b0dfe1-ec5b-485a-bbb2-b44f98713290",
   "metadata": {},
   "outputs": [],
   "source": []
  },
  {
   "cell_type": "code",
   "execution_count": null,
   "id": "11432c86-f493-4761-b46a-81624ff21c1a",
   "metadata": {},
   "outputs": [],
   "source": []
  },
  {
   "cell_type": "code",
   "execution_count": null,
   "id": "68176f0b-8678-4aab-84e4-7665d67799b6",
   "metadata": {},
   "outputs": [],
   "source": []
  },
  {
   "cell_type": "code",
   "execution_count": null,
   "id": "d3eed839-8ad3-4c57-823b-7adfba3638a6",
   "metadata": {},
   "outputs": [],
   "source": []
  },
  {
   "cell_type": "code",
   "execution_count": null,
   "id": "f1f0c58f-c91c-4204-a697-b0e77d39efde",
   "metadata": {},
   "outputs": [],
   "source": []
  },
  {
   "cell_type": "code",
   "execution_count": null,
   "id": "74cd05f8-c578-4eb0-8967-ecb7db4c05c8",
   "metadata": {},
   "outputs": [],
   "source": []
  }
 ],
 "metadata": {
  "kernelspec": {
   "display_name": "Python 3 (ipykernel)",
   "language": "python",
   "name": "python3"
  },
  "language_info": {
   "codemirror_mode": {
    "name": "ipython",
    "version": 3
   },
   "file_extension": ".py",
   "mimetype": "text/x-python",
   "name": "python",
   "nbconvert_exporter": "python",
   "pygments_lexer": "ipython3",
   "version": "3.9.7"
  }
 },
 "nbformat": 4,
 "nbformat_minor": 5
}
