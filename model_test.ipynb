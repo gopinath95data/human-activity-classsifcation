{
 "cells": [
  {
   "cell_type": "code",
   "execution_count": 14,
   "id": "63148ff4-a384-47d3-a154-39b99e119913",
   "metadata": {},
   "outputs": [],
   "source": [
    "import numpy as np\n",
    "import pandas as pd\n",
    "\n",
    "import tensorflow as tf\n",
    "\n",
    "import seaborn as sns\n",
    "\n",
    "from sklearn.metrics import accuracy_score, confusion_matrix"
   ]
  },
  {
   "cell_type": "code",
   "execution_count": 16,
   "id": "5733ba08-b8db-45b1-af12-d856e3af1a39",
   "metadata": {},
   "outputs": [],
   "source": [
    "x = np.load('./final data/test_features.npy')\n",
    "y = np.load('./final data/test_targets.npy')\n",
    "y = pd.get_dummies(y).values\n",
    "\n",
    "model = tf.keras.models.load_model('500epoch/')"
   ]
  },
  {
   "cell_type": "code",
   "execution_count": 17,
   "id": "577915af-e1b4-4153-9cf6-06b57eed27d0",
   "metadata": {},
   "outputs": [],
   "source": [
    "y_hat = model.predict(x)\n",
    "\n",
    "y_hat_arg = [x.argmax() for x in y_hat]\n",
    "y_arg = [x.argmax() for x in y]"
   ]
  },
  {
   "cell_type": "code",
   "execution_count": 18,
   "id": "f01a1fc2-205a-4dab-8591-3f668e8f5d12",
   "metadata": {},
   "outputs": [
    {
     "data": {
      "text/plain": [
       "0.9176470588235294"
      ]
     },
     "execution_count": 18,
     "metadata": {},
     "output_type": "execute_result"
    }
   ],
   "source": [
    "accuracy_score(y_arg,y_hat_arg)"
   ]
  },
  {
   "cell_type": "code",
   "execution_count": 15,
   "id": "3d86a2ca-007d-416a-860b-9e3d719e5741",
   "metadata": {},
   "outputs": [
    {
     "data": {
      "image/png": "[encoded data removed]",
      "text/plain": [
       "<Figure size 432x288 with 2 Axes>"
      ]
     },
     "metadata": {
      "needs_background": "light"
     },
     "output_type": "display_data"
    }
   ],
   "source": [
    "cf = confusion_matrix(y_arg,y_hat_arg)\n",
    "sns.heatmap(cf,annot=True,cmap=\"Blues\");"
   ]
  },
  {
   "cell_type": "code",
   "execution_count": null,
   "id": "77d51bd2-0c5b-403a-9c9b-e159c6d8b0a0",
   "metadata": {},
   "outputs": [],
   "source": []
  },
  {
   "cell_type": "code",
   "execution_count": null,
   "id": "7200aa32-2301-479d-bcf7-741d4f77aef0",
   "metadata": {},
   "outputs": [],
   "source": []
  },
  {
   "cell_type": "code",
   "execution_count": null,
   "id": "faafa537-0169-43c3-9a12-2833b8b5000f",
   "metadata": {},
   "outputs": [],
   "source": []
  },
  {
   "cell_type": "code",
   "execution_count": null,
   "id": "65b511fa-951d-4a92-8feb-7c455da01c78",
   "metadata": {},
   "outputs": [],
   "source": []
  },
  {
   "cell_type": "code",
   "execution_count": null,
   "id": "c5bce150-217b-4fd9-bf06-14f801f7cf75",
   "metadata": {},
   "outputs": [],
   "source": []
  },
  {
   "cell_type": "code",
   "execution_count": null,
   "id": "0c158e27-b078-4ca3-b077-7581a4f64e82",
   "metadata": {},
   "outputs": [],
   "source": []
  },
  {
   "cell_type": "code",
   "execution_count": null,
   "id": "bc5327dc-84e1-4954-bad6-570fbc03d0b9",
   "metadata": {},
   "outputs": [],
   "source": []
  },
  {
   "cell_type": "code",
   "execution_count": null,
   "id": "a51870d5-9f84-4366-a3bf-da8800b82203",
   "metadata": {},
   "outputs": [],
   "source": []
  },
  {
   "cell_type": "code",
   "execution_count": null,
   "id": "634e9161-9880-4950-9788-3a8f663a64ec",
   "metadata": {},
   "outputs": [],
   "source": []
  },
  {
   "cell_type": "code",
   "execution_count": null,
   "id": "c128f29a-48a6-4960-a873-de6bda97624b",
   "metadata": {},
   "outputs": [],
   "source": []
  },
  {
   "cell_type": "code",
   "execution_count": null,
   "id": "5f948255-a1a0-4994-9ded-4314825e5a6c",
   "metadata": {},
   "outputs": [],
   "source": []
  },
  {
   "cell_type": "code",
   "execution_count": null,
   "id": "de09cf5b-d781-41c9-b496-52807f3a4750",
   "metadata": {},
   "outputs": [],
   "source": []
  },
  {
   "cell_type": "code",
   "execution_count": null,
   "id": "4bd9f371-94ed-48e5-ae41-37cdd3d5860c",
   "metadata": {},
   "outputs": [],
   "source": []
  },
  {
   "cell_type": "code",
   "execution_count": null,
   "id": "b3846955-82f7-4ad6-a92a-c583fe78f51c",
   "metadata": {},
   "outputs": [],
   "source": []
  },
  {
   "cell_type": "code",
   "execution_count": null,
   "id": "f5315119-798d-4d3b-8b28-839cee954140",
   "metadata": {},
   "outputs": [],
   "source": []
  },
  {
   "cell_type": "code",
   "execution_count": null,
   "id": "44a8162d-0fb3-45d7-9d64-e7d43d3afd08",
   "metadata": {},
   "outputs": [],
   "source": []
  },
  {
   "cell_type": "code",
   "execution_count": null,
   "id": "f697c27d-57c7-4afa-a642-24083113b55d",
   "metadata": {},
   "outputs": [],
   "source": []
  },
  {
   "cell_type": "code",
   "execution_count": null,
   "id": "06b1eb6c-5ba9-49de-84cb-df10bb2b8e20",
   "metadata": {},
   "outputs": [],
   "source": []
  },
  {
   "cell_type": "code",
   "execution_count": null,
   "id": "a05bd691-1cc0-42ce-9a4e-106b064f9efb",
   "metadata": {},
   "outputs": [],
   "source": []
  },
  {
   "cell_type": "code",
   "execution_count": null,
   "id": "edc366d5-424a-4339-a7fb-afb9e9abc90c",
   "metadata": {},
   "outputs": [],
   "source": []
  },
  {
   "cell_type": "code",
   "execution_count": null,
   "id": "34a43ea1-22eb-43d0-b586-d17feabdceb7",
   "metadata": {},
   "outputs": [],
   "source": []
  },
  {
   "cell_type": "code",
   "execution_count": null,
   "id": "94358d95-b805-4199-b686-e38e2675a572",
   "metadata": {},
   "outputs": [],
   "source": []
  },
  {
   "cell_type": "code",
   "execution_count": null,
   "id": "ae8d927c-19a3-4569-b986-d3d0ebb43194",
   "metadata": {},
   "outputs": [],
   "source": []
  },
  {
   "cell_type": "code",
   "execution_count": null,
   "id": "011d8250-4963-44c9-8a5e-da5106063d5e",
   "metadata": {},
   "outputs": [],
   "source": []
  },
  {
   "cell_type": "code",
   "execution_count": null,
   "id": "492f2f5d-ea7b-4f08-ad86-3bf71868c273",
   "metadata": {},
   "outputs": [],
   "source": []
  },
  {
   "cell_type": "code",
   "execution_count": null,
   "id": "4167cf39-d1a6-46a1-8e8c-1296251e2ba2",
   "metadata": {},
   "outputs": [],
   "source": []
  }
 ],
 "metadata": {
  "kernelspec": {
   "display_name": "Python 3 (ipykernel)",
   "language": "python",
   "name": "python3"
  },
  "language_info": {
   "codemirror_mode": {
    "name": "ipython",
    "version": 3
   },
   "file_extension": ".py",
   "mimetype": "text/x-python",
   "name": "python",
   "nbconvert_exporter": "python",
   "pygments_lexer": "ipython3",
   "version": "3.9.7"
  }
 },
 "nbformat": 4,
 "nbformat_minor": 5
}
