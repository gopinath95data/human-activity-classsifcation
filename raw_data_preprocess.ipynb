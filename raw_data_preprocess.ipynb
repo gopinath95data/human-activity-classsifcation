{
 "cells": [
  {
   "cell_type": "code",
   "execution_count": 3,
   "id": "105f66bc-83e1-4e12-99d4-53746e4b25c4",
   "metadata": {},
   "outputs": [],
   "source": [
    "import pandas as pd\n",
    "import numpy as np\n",
    "import os\n",
    "import sys\n",
    "\n",
    "np.set_printoptions(threshold=sys.maxsize)"
   ]
  },
  {
   "cell_type": "code",
   "execution_count": 4,
   "id": "a386299b-c581-4161-8eb9-274cd0c23379",
   "metadata": {},
   "outputs": [],
   "source": [
    "files_path = './raw_data/raw/watch/accel/'\n",
    "files_in_folder = []\n",
    "\n",
    "for filename in os.listdir(files_path):\n",
    "    f = os.path.join(files_path, filename)\n",
    "    if os.path.isfile(f) and '.txt' in filename:\n",
    "        files_in_folder.append(f)"
   ]
  },
  {
   "cell_type": "code",
   "execution_count": 5,
   "id": "83d13fdd-a778-41a7-8a95-029e6eae22ae",
   "metadata": {},
   "outputs": [],
   "source": [
    "mast_arr = []\n",
    "mast_tar = []\n",
    "\n",
    "for file in files_in_folder:\n",
    "    df = pd.read_csv(files_in_folder[0],header=None)    \n",
    "    df[5] = df[5].astype(str).apply(lambda x:x[:-1]).astype(float)\n",
    "    \n",
    "    unq_act = df[1].unique()\n",
    "    \n",
    "    for unq in unq_act:\n",
    "        req = df[df[1] == unq]\n",
    "        if len(req[[3,4,5]].values[:3605]) == 3605:\n",
    "            mast_arr.append(req[[3,4,5]].values[:3605])\n",
    "            mast_tar.append(unq)"
   ]
  },
  {
   "cell_type": "code",
   "execution_count": 6,
   "id": "5c5ca724-be16-4e01-8971-a995c3d9a330",
   "metadata": {},
   "outputs": [],
   "source": [
    "np_mast = np.array(mast_arr)\n",
    "np_tar = np.array(mast_tar)\n",
    "np.save('./full sequence data/features.npy', np_mast)\n",
    "np.save('./full sequence data/targets.npy', mast_tar)"
   ]
  },
  {
   "cell_type": "code",
   "execution_count": 117,
   "id": "7d003cda-eef0-42b9-a168-42db9d6f4080",
   "metadata": {},
   "outputs": [],
   "source": []
  },
  {
   "cell_type": "code",
   "execution_count": 121,
   "id": "0ecf1b50-9e1f-4b5a-9792-682423675da3",
   "metadata": {},
   "outputs": [],
   "source": []
  },
  {
   "cell_type": "code",
   "execution_count": null,
   "id": "00cf2f97-4bcd-4fa1-9950-3349e119b5d0",
   "metadata": {},
   "outputs": [],
   "source": []
  },
  {
   "cell_type": "code",
   "execution_count": null,
   "id": "ee6ee35c-92f7-4d2b-8716-0da0ffa1c812",
   "metadata": {},
   "outputs": [],
   "source": []
  },
  {
   "cell_type": "code",
   "execution_count": null,
   "id": "a27e63b6-89cd-49c5-909b-9dbebc2f08f0",
   "metadata": {},
   "outputs": [],
   "source": []
  },
  {
   "cell_type": "code",
   "execution_count": null,
   "id": "40f36c7e-8200-4b81-885a-9e2657eacf27",
   "metadata": {},
   "outputs": [],
   "source": []
  },
  {
   "cell_type": "code",
   "execution_count": null,
   "id": "0a0adbd0-a923-43bd-9a4c-d207de2b1c27",
   "metadata": {},
   "outputs": [],
   "source": []
  },
  {
   "cell_type": "code",
   "execution_count": null,
   "id": "2e5bcb19-b314-4357-b903-1d45f6e834ce",
   "metadata": {},
   "outputs": [],
   "source": []
  },
  {
   "cell_type": "code",
   "execution_count": null,
   "id": "3f51316c-57a5-4c96-9248-ce0c84881e68",
   "metadata": {},
   "outputs": [],
   "source": []
  },
  {
   "cell_type": "code",
   "execution_count": null,
   "id": "320bc205-209e-4020-bb45-9e4d88ee9f1f",
   "metadata": {},
   "outputs": [],
   "source": []
  },
  {
   "cell_type": "code",
   "execution_count": null,
   "id": "cbdb3035-64d4-41aa-8330-9e8e8e433184",
   "metadata": {},
   "outputs": [],
   "source": []
  },
  {
   "cell_type": "code",
   "execution_count": null,
   "id": "613f6a07-8795-4017-ad55-d67e9c9e55ae",
   "metadata": {},
   "outputs": [],
   "source": []
  },
  {
   "cell_type": "code",
   "execution_count": null,
   "id": "2bf4ac40-a2a7-4fa0-989f-e600ec1c6c62",
   "metadata": {},
   "outputs": [],
   "source": []
  },
  {
   "cell_type": "code",
   "execution_count": null,
   "id": "ea9f3978-14f2-49d4-b0fe-ef19b65e2e54",
   "metadata": {},
   "outputs": [],
   "source": []
  },
  {
   "cell_type": "code",
   "execution_count": null,
   "id": "9e38e58a-6471-484c-b317-67597536f70b",
   "metadata": {},
   "outputs": [],
   "source": []
  },
  {
   "cell_type": "code",
   "execution_count": null,
   "id": "00c38b84-e484-40df-b252-039d19544e49",
   "metadata": {},
   "outputs": [],
   "source": []
  },
  {
   "cell_type": "code",
   "execution_count": null,
   "id": "d785c600-5a9f-4f99-9b77-8d143fcbfc29",
   "metadata": {},
   "outputs": [],
   "source": []
  }
 ],
 "metadata": {
  "kernelspec": {
   "display_name": "Python 3 (ipykernel)",
   "language": "python",
   "name": "python3"
  },
  "language_info": {
   "codemirror_mode": {
    "name": "ipython",
    "version": 3
   },
   "file_extension": ".py",
   "mimetype": "text/x-python",
   "name": "python",
   "nbconvert_exporter": "python",
   "pygments_lexer": "ipython3",
   "version": "3.9.7"
  }
 },
 "nbformat": 4,
 "nbformat_minor": 5
}
